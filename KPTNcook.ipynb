{
  "cells": [
    {
      "cell_type": "markdown",
      "metadata": {
        "id": "view-in-github",
        "colab_type": "text"
      },
      "source": [
        "<a href=\"https://colab.research.google.com/github/onlymayank11/Mayank-kptncook-data-challenge/blob/main/KPTNcook.ipynb\" target=\"_parent\"><img src=\"https://colab.research.google.com/assets/colab-badge.svg\" alt=\"Open In Colab\"/></a>"
      ]
    },
    {
      "cell_type": "markdown",
      "metadata": {
        "id": "jr8dn6_s5gET"
      },
      "source": [
        "Below code will updates the data once a user has listened to an artist. Suppose, user is \"33\" and he/she listened to \"abba\" then designated cell in the excel will change from 0 to 1.\n"
      ]
    },
    {
      "cell_type": "code",
      "execution_count": 36,
      "metadata": {
        "id": "JUYdpVypMtPl"
      },
      "outputs": [],
      "source": [
        "# ---  Imported all necesary Libraries  ---\n",
        "import pandas as pd\n",
        "from scipy.spatial.distance import cosine   # For finding the reccomandation\n",
        "import scipy as sp\n",
        "from scipy import special  \n",
        "import numpy as np"
      ]
    },
    {
      "cell_type": "code",
      "execution_count": 37,
      "metadata": {
        "id": "b7kps5vqM51Z"
      },
      "outputs": [],
      "source": [
        "# Will create a 2D array copy of the csv file.\n",
        "file_name = 'lastfm-matrix-germany.csv'\n",
        "\n",
        "#####################################################\n",
        "import csv\n",
        "data = []\n",
        "header = []\n",
        "\n",
        "with open('lastfm-matrix-germany.csv') as csvfile:\n",
        "    reader = csv.reader(csvfile)\n",
        "    header = next(reader)\n",
        "    for row in reader:\n",
        "        data.append(row)\n",
        "    csvfile.close()"
      ]
    },
    {
      "cell_type": "code",
      "execution_count": 38,
      "metadata": {
        "colab": {
          "base_uri": "https://localhost:8080/"
        },
        "id": "XqB6F6StM9N9",
        "outputId": "4f3d1c0e-05f2-4dec-df45-2a857c02bf84"
      },
      "outputs": [
        {
          "output_type": "stream",
          "name": "stdout",
          "text": [
            "Updated\n"
          ]
        }
      ],
      "source": [
        "# User information that has to be update.\n",
        "\n",
        "user_id = 33\n",
        "artist = \"abba\"\n",
        "\n",
        "#------------------------------\n",
        "\n",
        "user_index = -1\n",
        "for row in data:\n",
        "    if row[0] == str(user_id):\n",
        "        user_index = data.index(row)\n",
        "\n",
        "artist_index = -1\n",
        "for col in header[1:]:\n",
        "    if col == artist:\n",
        "        artist_index = header.index(col)\n",
        "\n",
        "if user_index >= 0:\n",
        "    if artist_index >= 0:\n",
        "        data[user_index][artist_index] = 1\n",
        "        print(\"Updated\")\n",
        "    else:\n",
        "        print(\"Artist does not exist in file\")\n",
        "else:\n",
        "    print(\"User does not exist in file\")"
      ]
    },
    {
      "cell_type": "code",
      "execution_count": 39,
      "metadata": {
        "id": "vAoQPU_kM_aQ"
      },
      "outputs": [],
      "source": [
        "# Writing the contents of the 2D array back to csv.\n",
        "# If user hear the new song then this code will run otherwise changes made to the array will not be saved. \n",
        "with open(file_name, 'w', newline='') as csvfile:\n",
        "    writer = csv.writer(csvfile)\n",
        "    writer.writerow(header)\n",
        "    writer.writerows(data)\n",
        "    csvfile.close()"
      ]
    },
    {
      "cell_type": "markdown",
      "metadata": {
        "id": "PzmAzPP2NKZe"
      },
      "source": [
        "Below code is for Recommending an artist for a specific user. \n",
        "The recommendations is on\n",
        "- Random artists,\n",
        "- Still unknown artists, or\n",
        "- Artists that are similar to the ones she already listened to. \n",
        "\n",
        "\n",
        "I use the collaborating Filtering technique which is widely used in recommendation system.\n",
        "\n",
        "I used both User-Based and Item-Based filtering for finding recommendation for the user.\n",
        "\n"
      ]
    },
    {
      "cell_type": "code",
      "execution_count": 40,
      "metadata": {
        "id": "QMYFad3zNJO9"
      },
      "outputs": [],
      "source": [
        "#------------------- Read the file\n",
        "data = pd.read_csv('lastfm-matrix-germany.csv')"
      ]
    },
    {
      "cell_type": "code",
      "execution_count": 41,
      "metadata": {
        "colab": {
          "base_uri": "https://localhost:8080/",
          "height": 235
        },
        "id": "LclrcV0vNRmq",
        "outputId": "1874cb33-afda-4060-efa2-41a12da5f9b1"
      },
      "outputs": [
        {
          "output_type": "execute_result",
          "data": {
            "text/plain": [
              "   abba  ac/dc  adam green  aerosmith  afi  air\n",
              "0     0      0           0          0    0    0\n",
              "1     1      0           1          0    0    0\n",
              "2     0      0           0          0    0    0\n",
              "3     0      0           0          0    0    0\n",
              "4     0      0           0          0    0    0\n",
              "5     0      0           0          0    0    0"
            ],
            "text/html": [
              "\n",
              "  <div id=\"df-7b6cfe3a-249c-4797-9f41-5c826614c98c\">\n",
              "    <div class=\"colab-df-container\">\n",
              "      <div>\n",
              "<style scoped>\n",
              "    .dataframe tbody tr th:only-of-type {\n",
              "        vertical-align: middle;\n",
              "    }\n",
              "\n",
              "    .dataframe tbody tr th {\n",
              "        vertical-align: top;\n",
              "    }\n",
              "\n",
              "    .dataframe thead th {\n",
              "        text-align: right;\n",
              "    }\n",
              "</style>\n",
              "<table border=\"1\" class=\"dataframe\">\n",
              "  <thead>\n",
              "    <tr style=\"text-align: right;\">\n",
              "      <th></th>\n",
              "      <th>abba</th>\n",
              "      <th>ac/dc</th>\n",
              "      <th>adam green</th>\n",
              "      <th>aerosmith</th>\n",
              "      <th>afi</th>\n",
              "      <th>air</th>\n",
              "    </tr>\n",
              "  </thead>\n",
              "  <tbody>\n",
              "    <tr>\n",
              "      <th>0</th>\n",
              "      <td>0</td>\n",
              "      <td>0</td>\n",
              "      <td>0</td>\n",
              "      <td>0</td>\n",
              "      <td>0</td>\n",
              "      <td>0</td>\n",
              "    </tr>\n",
              "    <tr>\n",
              "      <th>1</th>\n",
              "      <td>1</td>\n",
              "      <td>0</td>\n",
              "      <td>1</td>\n",
              "      <td>0</td>\n",
              "      <td>0</td>\n",
              "      <td>0</td>\n",
              "    </tr>\n",
              "    <tr>\n",
              "      <th>2</th>\n",
              "      <td>0</td>\n",
              "      <td>0</td>\n",
              "      <td>0</td>\n",
              "      <td>0</td>\n",
              "      <td>0</td>\n",
              "      <td>0</td>\n",
              "    </tr>\n",
              "    <tr>\n",
              "      <th>3</th>\n",
              "      <td>0</td>\n",
              "      <td>0</td>\n",
              "      <td>0</td>\n",
              "      <td>0</td>\n",
              "      <td>0</td>\n",
              "      <td>0</td>\n",
              "    </tr>\n",
              "    <tr>\n",
              "      <th>4</th>\n",
              "      <td>0</td>\n",
              "      <td>0</td>\n",
              "      <td>0</td>\n",
              "      <td>0</td>\n",
              "      <td>0</td>\n",
              "      <td>0</td>\n",
              "    </tr>\n",
              "    <tr>\n",
              "      <th>5</th>\n",
              "      <td>0</td>\n",
              "      <td>0</td>\n",
              "      <td>0</td>\n",
              "      <td>0</td>\n",
              "      <td>0</td>\n",
              "      <td>0</td>\n",
              "    </tr>\n",
              "  </tbody>\n",
              "</table>\n",
              "</div>\n",
              "      <button class=\"colab-df-convert\" onclick=\"convertToInteractive('df-7b6cfe3a-249c-4797-9f41-5c826614c98c')\"\n",
              "              title=\"Convert this dataframe to an interactive table.\"\n",
              "              style=\"display:none;\">\n",
              "        \n",
              "  <svg xmlns=\"http://www.w3.org/2000/svg\" height=\"24px\"viewBox=\"0 0 24 24\"\n",
              "       width=\"24px\">\n",
              "    <path d=\"M0 0h24v24H0V0z\" fill=\"none\"/>\n",
              "    <path d=\"M18.56 5.44l.94 2.06.94-2.06 2.06-.94-2.06-.94-.94-2.06-.94 2.06-2.06.94zm-11 1L8.5 8.5l.94-2.06 2.06-.94-2.06-.94L8.5 2.5l-.94 2.06-2.06.94zm10 10l.94 2.06.94-2.06 2.06-.94-2.06-.94-.94-2.06-.94 2.06-2.06.94z\"/><path d=\"M17.41 7.96l-1.37-1.37c-.4-.4-.92-.59-1.43-.59-.52 0-1.04.2-1.43.59L10.3 9.45l-7.72 7.72c-.78.78-.78 2.05 0 2.83L4 21.41c.39.39.9.59 1.41.59.51 0 1.02-.2 1.41-.59l7.78-7.78 2.81-2.81c.8-.78.8-2.07 0-2.86zM5.41 20L4 18.59l7.72-7.72 1.47 1.35L5.41 20z\"/>\n",
              "  </svg>\n",
              "      </button>\n",
              "      \n",
              "  <style>\n",
              "    .colab-df-container {\n",
              "      display:flex;\n",
              "      flex-wrap:wrap;\n",
              "      gap: 12px;\n",
              "    }\n",
              "\n",
              "    .colab-df-convert {\n",
              "      background-color: #E8F0FE;\n",
              "      border: none;\n",
              "      border-radius: 50%;\n",
              "      cursor: pointer;\n",
              "      display: none;\n",
              "      fill: #1967D2;\n",
              "      height: 32px;\n",
              "      padding: 0 0 0 0;\n",
              "      width: 32px;\n",
              "    }\n",
              "\n",
              "    .colab-df-convert:hover {\n",
              "      background-color: #E2EBFA;\n",
              "      box-shadow: 0px 1px 2px rgba(60, 64, 67, 0.3), 0px 1px 3px 1px rgba(60, 64, 67, 0.15);\n",
              "      fill: #174EA6;\n",
              "    }\n",
              "\n",
              "    [theme=dark] .colab-df-convert {\n",
              "      background-color: #3B4455;\n",
              "      fill: #D2E3FC;\n",
              "    }\n",
              "\n",
              "    [theme=dark] .colab-df-convert:hover {\n",
              "      background-color: #434B5C;\n",
              "      box-shadow: 0px 1px 3px 1px rgba(0, 0, 0, 0.15);\n",
              "      filter: drop-shadow(0px 1px 2px rgba(0, 0, 0, 0.3));\n",
              "      fill: #FFFFFF;\n",
              "    }\n",
              "  </style>\n",
              "\n",
              "      <script>\n",
              "        const buttonEl =\n",
              "          document.querySelector('#df-7b6cfe3a-249c-4797-9f41-5c826614c98c button.colab-df-convert');\n",
              "        buttonEl.style.display =\n",
              "          google.colab.kernel.accessAllowed ? 'block' : 'none';\n",
              "\n",
              "        async function convertToInteractive(key) {\n",
              "          const element = document.querySelector('#df-7b6cfe3a-249c-4797-9f41-5c826614c98c');\n",
              "          const dataTable =\n",
              "            await google.colab.kernel.invokeFunction('convertToInteractive',\n",
              "                                                     [key], {});\n",
              "          if (!dataTable) return;\n",
              "\n",
              "          const docLinkHtml = 'Like what you see? Visit the ' +\n",
              "            '<a target=\"_blank\" href=https://colab.research.google.com/notebooks/data_table.ipynb>data table notebook</a>'\n",
              "            + ' to learn more about interactive tables.';\n",
              "          element.innerHTML = '';\n",
              "          dataTable['output_type'] = 'display_data';\n",
              "          await google.colab.output.renderOutput(dataTable, element);\n",
              "          const docLink = document.createElement('div');\n",
              "          docLink.innerHTML = docLinkHtml;\n",
              "          element.appendChild(docLink);\n",
              "        }\n",
              "      </script>\n",
              "    </div>\n",
              "  </div>\n",
              "  "
            ]
          },
          "metadata": {},
          "execution_count": 41
        }
      ],
      "source": [
        "data.head(6).iloc[:,2:8]"
      ]
    },
    {
      "cell_type": "markdown",
      "source": [
        "#Item Based Collaborative Filtering\n"
      ],
      "metadata": {
        "id": "j5YpQrDCG6na"
      }
    },
    {
      "cell_type": "code",
      "execution_count": 42,
      "metadata": {
        "colab": {
          "base_uri": "https://localhost:8080/"
        },
        "id": "Qgx_nEwNOZZ2",
        "outputId": "90d696e1-bb96-43f3-f8b5-994989f90563"
      },
      "outputs": [
        {
          "output_type": "stream",
          "name": "stderr",
          "text": [
            "/usr/local/lib/python3.7/dist-packages/ipykernel_launcher.py:3: FutureWarning: In a future version of pandas all arguments of DataFrame.drop except for the argument 'labels' will be keyword-only\n",
            "  This is separate from the ipykernel package so we can avoid doing imports until\n"
          ]
        }
      ],
      "source": [
        "#Drop the user coloum as it is not important in item based filtering\n",
        "\n",
        "data_germany = data.drop('user', 1)"
      ]
    },
    {
      "cell_type": "markdown",
      "source": [
        "We need a location to store our similarities before we can compute them, so I created a variable named \"data_ibs\", which is a Pandas Data Frame.\n"
      ],
      "metadata": {
        "id": "RgIonHCwGhNd"
      }
    },
    {
      "cell_type": "code",
      "execution_count": 43,
      "metadata": {
        "id": "dYzNEkitObd4"
      },
      "outputs": [],
      "source": [
        "data_ibs = pd.DataFrame(index=data_germany.columns,columns=data_germany.columns)"
      ]
    },
    {
      "cell_type": "code",
      "execution_count": 44,
      "metadata": {
        "id": "me9hZ9rLOdd_"
      },
      "outputs": [],
      "source": [
        "# Scipy library has a function that allows to do cosine similarities\n",
        "#cosine similarity divides the sum product of the first and second columns by the product of the square root of the sum of squares of each column.\n",
        "\n",
        "for i in range(0,len(data_ibs.columns)) :\n",
        "    # Loop through the columns for each column\n",
        "    for j in range(0,len(data_ibs.columns)) :\n",
        "      # Fill in placeholder with cosine similarities\n",
        "      data_ibs.iloc[i,j] = 1-cosine(data_germany.iloc[:,i],data_germany.iloc[:,j])"
      ]
    },
    {
      "cell_type": "markdown",
      "source": [
        "Similarity matrix filled out we can look for each items “neighbour” by looping through ‘data_ibs’, sorting each column in descending order, and grabbing the name of each of the top 10 songs."
      ],
      "metadata": {
        "id": "_GPjFV5LGd0i"
      }
    },
    {
      "cell_type": "code",
      "execution_count": 45,
      "metadata": {
        "id": "t5BsdpPbOfMM"
      },
      "outputs": [],
      "source": [
        "# Create a placeholder items for closes neighbours to an item\n",
        "data_neighbours = pd.DataFrame(index=data_ibs.columns,columns=range(1,11))\n",
        "\n",
        "for i in range(0,len(data_ibs.columns)):\n",
        "    data_neighbours.iloc[i,:10] = data_ibs.iloc[0:,i].sort_values(ascending=False)[:10].index\n",
        " "
      ]
    },
    {
      "cell_type": "markdown",
      "source": [
        "#User Based collaborative Filtering\n",
        "\n",
        "Check which items the user has consumed\n",
        "\n",
        "For each item the user has consumed, get the top 10 neighbours\n",
        "\n",
        "Get the consumption record of the user for each neighbour.\n",
        "\n",
        "Recommending the items with the highest score"
      ],
      "metadata": {
        "id": "UQYQgqZZGliK"
      }
    },
    {
      "cell_type": "code",
      "execution_count": 46,
      "metadata": {
        "colab": {
          "base_uri": "https://localhost:8080/",
          "height": 297
        },
        "id": "k5vjRTjMOg9t",
        "outputId": "d2531f01-eec9-4d46-c0f8-ed6559e8eb49"
      },
      "outputs": [
        {
          "output_type": "execute_result",
          "data": {
            "text/plain": [
              "                                       2                3  \\\n",
              "a perfect circle                    tool            dredg   \n",
              "abba                             madonna  robbie williams   \n",
              "ac/dc              red hot chili peppers        metallica   \n",
              "adam green                the libertines      the strokes   \n",
              "aerosmith                             u2     led zeppelin   \n",
              "afi                 funeral for a friend     rise against   \n",
              "air                       massive attack        goldfrapp   \n",
              "alanis morissette              tori amos      alicia keys   \n",
              "\n",
              "                                       4                     5  \\\n",
              "a perfect circle                deftones        porcupine tree   \n",
              "abba                       elvis presley       michael jackson   \n",
              "ac/dc                        iron maiden         the offspring   \n",
              "adam green                  babyshambles             radiohead   \n",
              "aerosmith                      metallica                 ac/dc   \n",
              "afi                         fall out boy             anti-flag   \n",
              "air                            morcheeba  thievery corporation   \n",
              "alanis morissette  red hot chili peppers        kelly clarkson   \n",
              "\n",
              "                                 6  \n",
              "a perfect circle   nine inch nails  \n",
              "abba                         queen  \n",
              "ac/dc                black sabbath  \n",
              "adam green         franz ferdinand  \n",
              "aerosmith            lenny kravitz  \n",
              "afi                         sum 41  \n",
              "air                     jamiroquai  \n",
              "alanis morissette             dido  "
            ],
            "text/html": [
              "\n",
              "  <div id=\"df-7ffcb92a-e65a-4ddb-9d47-054cff7d0d23\">\n",
              "    <div class=\"colab-df-container\">\n",
              "      <div>\n",
              "<style scoped>\n",
              "    .dataframe tbody tr th:only-of-type {\n",
              "        vertical-align: middle;\n",
              "    }\n",
              "\n",
              "    .dataframe tbody tr th {\n",
              "        vertical-align: top;\n",
              "    }\n",
              "\n",
              "    .dataframe thead th {\n",
              "        text-align: right;\n",
              "    }\n",
              "</style>\n",
              "<table border=\"1\" class=\"dataframe\">\n",
              "  <thead>\n",
              "    <tr style=\"text-align: right;\">\n",
              "      <th></th>\n",
              "      <th>2</th>\n",
              "      <th>3</th>\n",
              "      <th>4</th>\n",
              "      <th>5</th>\n",
              "      <th>6</th>\n",
              "    </tr>\n",
              "  </thead>\n",
              "  <tbody>\n",
              "    <tr>\n",
              "      <th>a perfect circle</th>\n",
              "      <td>tool</td>\n",
              "      <td>dredg</td>\n",
              "      <td>deftones</td>\n",
              "      <td>porcupine tree</td>\n",
              "      <td>nine inch nails</td>\n",
              "    </tr>\n",
              "    <tr>\n",
              "      <th>abba</th>\n",
              "      <td>madonna</td>\n",
              "      <td>robbie williams</td>\n",
              "      <td>elvis presley</td>\n",
              "      <td>michael jackson</td>\n",
              "      <td>queen</td>\n",
              "    </tr>\n",
              "    <tr>\n",
              "      <th>ac/dc</th>\n",
              "      <td>red hot chili peppers</td>\n",
              "      <td>metallica</td>\n",
              "      <td>iron maiden</td>\n",
              "      <td>the offspring</td>\n",
              "      <td>black sabbath</td>\n",
              "    </tr>\n",
              "    <tr>\n",
              "      <th>adam green</th>\n",
              "      <td>the libertines</td>\n",
              "      <td>the strokes</td>\n",
              "      <td>babyshambles</td>\n",
              "      <td>radiohead</td>\n",
              "      <td>franz ferdinand</td>\n",
              "    </tr>\n",
              "    <tr>\n",
              "      <th>aerosmith</th>\n",
              "      <td>u2</td>\n",
              "      <td>led zeppelin</td>\n",
              "      <td>metallica</td>\n",
              "      <td>ac/dc</td>\n",
              "      <td>lenny kravitz</td>\n",
              "    </tr>\n",
              "    <tr>\n",
              "      <th>afi</th>\n",
              "      <td>funeral for a friend</td>\n",
              "      <td>rise against</td>\n",
              "      <td>fall out boy</td>\n",
              "      <td>anti-flag</td>\n",
              "      <td>sum 41</td>\n",
              "    </tr>\n",
              "    <tr>\n",
              "      <th>air</th>\n",
              "      <td>massive attack</td>\n",
              "      <td>goldfrapp</td>\n",
              "      <td>morcheeba</td>\n",
              "      <td>thievery corporation</td>\n",
              "      <td>jamiroquai</td>\n",
              "    </tr>\n",
              "    <tr>\n",
              "      <th>alanis morissette</th>\n",
              "      <td>tori amos</td>\n",
              "      <td>alicia keys</td>\n",
              "      <td>red hot chili peppers</td>\n",
              "      <td>kelly clarkson</td>\n",
              "      <td>dido</td>\n",
              "    </tr>\n",
              "  </tbody>\n",
              "</table>\n",
              "</div>\n",
              "      <button class=\"colab-df-convert\" onclick=\"convertToInteractive('df-7ffcb92a-e65a-4ddb-9d47-054cff7d0d23')\"\n",
              "              title=\"Convert this dataframe to an interactive table.\"\n",
              "              style=\"display:none;\">\n",
              "        \n",
              "  <svg xmlns=\"http://www.w3.org/2000/svg\" height=\"24px\"viewBox=\"0 0 24 24\"\n",
              "       width=\"24px\">\n",
              "    <path d=\"M0 0h24v24H0V0z\" fill=\"none\"/>\n",
              "    <path d=\"M18.56 5.44l.94 2.06.94-2.06 2.06-.94-2.06-.94-.94-2.06-.94 2.06-2.06.94zm-11 1L8.5 8.5l.94-2.06 2.06-.94-2.06-.94L8.5 2.5l-.94 2.06-2.06.94zm10 10l.94 2.06.94-2.06 2.06-.94-2.06-.94-.94-2.06-.94 2.06-2.06.94z\"/><path d=\"M17.41 7.96l-1.37-1.37c-.4-.4-.92-.59-1.43-.59-.52 0-1.04.2-1.43.59L10.3 9.45l-7.72 7.72c-.78.78-.78 2.05 0 2.83L4 21.41c.39.39.9.59 1.41.59.51 0 1.02-.2 1.41-.59l7.78-7.78 2.81-2.81c.8-.78.8-2.07 0-2.86zM5.41 20L4 18.59l7.72-7.72 1.47 1.35L5.41 20z\"/>\n",
              "  </svg>\n",
              "      </button>\n",
              "      \n",
              "  <style>\n",
              "    .colab-df-container {\n",
              "      display:flex;\n",
              "      flex-wrap:wrap;\n",
              "      gap: 12px;\n",
              "    }\n",
              "\n",
              "    .colab-df-convert {\n",
              "      background-color: #E8F0FE;\n",
              "      border: none;\n",
              "      border-radius: 50%;\n",
              "      cursor: pointer;\n",
              "      display: none;\n",
              "      fill: #1967D2;\n",
              "      height: 32px;\n",
              "      padding: 0 0 0 0;\n",
              "      width: 32px;\n",
              "    }\n",
              "\n",
              "    .colab-df-convert:hover {\n",
              "      background-color: #E2EBFA;\n",
              "      box-shadow: 0px 1px 2px rgba(60, 64, 67, 0.3), 0px 1px 3px 1px rgba(60, 64, 67, 0.15);\n",
              "      fill: #174EA6;\n",
              "    }\n",
              "\n",
              "    [theme=dark] .colab-df-convert {\n",
              "      background-color: #3B4455;\n",
              "      fill: #D2E3FC;\n",
              "    }\n",
              "\n",
              "    [theme=dark] .colab-df-convert:hover {\n",
              "      background-color: #434B5C;\n",
              "      box-shadow: 0px 1px 3px 1px rgba(0, 0, 0, 0.15);\n",
              "      filter: drop-shadow(0px 1px 2px rgba(0, 0, 0, 0.3));\n",
              "      fill: #FFFFFF;\n",
              "    }\n",
              "  </style>\n",
              "\n",
              "      <script>\n",
              "        const buttonEl =\n",
              "          document.querySelector('#df-7ffcb92a-e65a-4ddb-9d47-054cff7d0d23 button.colab-df-convert');\n",
              "        buttonEl.style.display =\n",
              "          google.colab.kernel.accessAllowed ? 'block' : 'none';\n",
              "\n",
              "        async function convertToInteractive(key) {\n",
              "          const element = document.querySelector('#df-7ffcb92a-e65a-4ddb-9d47-054cff7d0d23');\n",
              "          const dataTable =\n",
              "            await google.colab.kernel.invokeFunction('convertToInteractive',\n",
              "                                                     [key], {});\n",
              "          if (!dataTable) return;\n",
              "\n",
              "          const docLinkHtml = 'Like what you see? Visit the ' +\n",
              "            '<a target=\"_blank\" href=https://colab.research.google.com/notebooks/data_table.ipynb>data table notebook</a>'\n",
              "            + ' to learn more about interactive tables.';\n",
              "          element.innerHTML = '';\n",
              "          dataTable['output_type'] = 'display_data';\n",
              "          await google.colab.output.renderOutput(dataTable, element);\n",
              "          const docLink = document.createElement('div');\n",
              "          docLink.innerHTML = docLinkHtml;\n",
              "          element.appendChild(docLink);\n",
              "        }\n",
              "      </script>\n",
              "    </div>\n",
              "  </div>\n",
              "  "
            ]
          },
          "metadata": {},
          "execution_count": 46
        }
      ],
      "source": [
        "data_neighbours.head(8).iloc[:8,1:6] "
      ]
    },
    {
      "cell_type": "code",
      "execution_count": 47,
      "metadata": {
        "id": "DNqQqpqQOklG"
      },
      "outputs": [],
      "source": [
        "# Helper function to get similarity scores\n",
        "def getScore(history, similarities):\n",
        "   return sum(history*similarities)/sum(similarities)"
      ]
    },
    {
      "cell_type": "code",
      "execution_count": 48,
      "metadata": {
        "id": "Y3xfhmrTOmeH"
      },
      "outputs": [],
      "source": [
        "# Create a place holder matrix for similarities, and fill in the user name column\n",
        "data_sims = pd.DataFrame(index=data.index,columns=data.columns)\n",
        "data_sims.iloc[:,:1] = data.iloc[:,:1]"
      ]
    },
    {
      "cell_type": "code",
      "execution_count": 32,
      "metadata": {
        "id": "7YG0mUnEOpua"
      },
      "outputs": [],
      "source": [
        "#Loop through all rows, skip the user column, and fill with similarity scores\n",
        "for i in range(0,len(data_sims.index)):\n",
        "    for j in range(1,len(data_sims.columns)):\n",
        "        user = data_sims.index[i]\n",
        "        product = data_sims.columns[j]\n",
        " \n",
        "        if data.iloc[i][j] == 1:\n",
        "            data_sims.iloc[i][j] = 0\n",
        "        else:\n",
        "            product_top_names = data_neighbours.loc[product][1:10]\n",
        "            product_top_sims = data_ibs.loc[product].sort_values(ascending=False)[1:10]\n",
        "            user_purchases = data_germany.loc[user,product_top_names]\n",
        " \n",
        "            data_sims.iloc[i][j] = getScore(user_purchases,product_top_sims)"
      ]
    },
    {
      "cell_type": "code",
      "execution_count": 33,
      "metadata": {
        "id": "LxD3OQH3OriE"
      },
      "outputs": [],
      "source": [
        "# Get the top songs\n",
        "data_recommend = pd.DataFrame(index=data_sims.index, columns=['user','1','2','3','4','5','6'])\n",
        "data_recommend.iloc[0:,0] = data_sims.iloc[:,0]"
      ]
    },
    {
      "cell_type": "code",
      "execution_count": 34,
      "metadata": {
        "id": "8CzDCI1YOtha"
      },
      "outputs": [],
      "source": [
        "# Instead of top song scores, we want to see names\n",
        "for i in range(0,len(data_sims.index)):\n",
        "    data_recommend.iloc[i,1:] = data_sims.iloc[i,:].sort_values(ascending=False).iloc[1:7,].index.transpose()"
      ]
    },
    {
      "cell_type": "code",
      "execution_count": 35,
      "metadata": {
        "colab": {
          "base_uri": "https://localhost:8080/",
          "height": 359
        },
        "id": "-rbM-K54OvW9",
        "outputId": "2a31bfd1-101a-474a-ddd2-b631fe1d0586"
      },
      "outputs": [
        {
          "output_type": "execute_result",
          "data": {
            "text/plain": [
              "  user                      1                      2                3  \\\n",
              "0    1         flogging molly               coldplay        aerosmith   \n",
              "1   33  red hot chili peppers          kings of leon        peter fox   \n",
              "2   42                 oomph!            lacuna coil        rammstein   \n",
              "3   51            the subways              the kooks  franz ferdinand   \n",
              "4   62           jack johnson                incubus       mando diao   \n",
              "5   75             hoobastank             papa roach           sum 41   \n",
              "6  130      alanis morissette  the smashing pumpkins        pearl jam   \n",
              "7  141           machine head        sonic syndicate          caliban   \n",
              "8  144                editors              nada surf      the strokes   \n",
              "9  150                placebo            the subways     eric clapton   \n",
              "\n",
              "                     4                  5  \n",
              "0          the beatles         mando diao  \n",
              "1            gentleman            flyleaf  \n",
              "2           schandmaul     sonata arctica  \n",
              "3            the hives       jack johnson  \n",
              "4        the fratellis              oasis  \n",
              "5            blink-182     good charlotte  \n",
              "6           nickelback        norah jones  \n",
              "7            hatebreed  killswitch engage  \n",
              "8  death cab for cutie   the decemberists  \n",
              "9          the streets          bob dylan  "
            ],
            "text/html": [
              "\n",
              "  <div id=\"df-08d6cdc7-6d47-4e43-ad18-98e94cf2b854\">\n",
              "    <div class=\"colab-df-container\">\n",
              "      <div>\n",
              "<style scoped>\n",
              "    .dataframe tbody tr th:only-of-type {\n",
              "        vertical-align: middle;\n",
              "    }\n",
              "\n",
              "    .dataframe tbody tr th {\n",
              "        vertical-align: top;\n",
              "    }\n",
              "\n",
              "    .dataframe thead th {\n",
              "        text-align: right;\n",
              "    }\n",
              "</style>\n",
              "<table border=\"1\" class=\"dataframe\">\n",
              "  <thead>\n",
              "    <tr style=\"text-align: right;\">\n",
              "      <th></th>\n",
              "      <th>user</th>\n",
              "      <th>1</th>\n",
              "      <th>2</th>\n",
              "      <th>3</th>\n",
              "      <th>4</th>\n",
              "      <th>5</th>\n",
              "    </tr>\n",
              "  </thead>\n",
              "  <tbody>\n",
              "    <tr>\n",
              "      <th>0</th>\n",
              "      <td>1</td>\n",
              "      <td>flogging molly</td>\n",
              "      <td>coldplay</td>\n",
              "      <td>aerosmith</td>\n",
              "      <td>the beatles</td>\n",
              "      <td>mando diao</td>\n",
              "    </tr>\n",
              "    <tr>\n",
              "      <th>1</th>\n",
              "      <td>33</td>\n",
              "      <td>red hot chili peppers</td>\n",
              "      <td>kings of leon</td>\n",
              "      <td>peter fox</td>\n",
              "      <td>gentleman</td>\n",
              "      <td>flyleaf</td>\n",
              "    </tr>\n",
              "    <tr>\n",
              "      <th>2</th>\n",
              "      <td>42</td>\n",
              "      <td>oomph!</td>\n",
              "      <td>lacuna coil</td>\n",
              "      <td>rammstein</td>\n",
              "      <td>schandmaul</td>\n",
              "      <td>sonata arctica</td>\n",
              "    </tr>\n",
              "    <tr>\n",
              "      <th>3</th>\n",
              "      <td>51</td>\n",
              "      <td>the subways</td>\n",
              "      <td>the kooks</td>\n",
              "      <td>franz ferdinand</td>\n",
              "      <td>the hives</td>\n",
              "      <td>jack johnson</td>\n",
              "    </tr>\n",
              "    <tr>\n",
              "      <th>4</th>\n",
              "      <td>62</td>\n",
              "      <td>jack johnson</td>\n",
              "      <td>incubus</td>\n",
              "      <td>mando diao</td>\n",
              "      <td>the fratellis</td>\n",
              "      <td>oasis</td>\n",
              "    </tr>\n",
              "    <tr>\n",
              "      <th>5</th>\n",
              "      <td>75</td>\n",
              "      <td>hoobastank</td>\n",
              "      <td>papa roach</td>\n",
              "      <td>sum 41</td>\n",
              "      <td>blink-182</td>\n",
              "      <td>good charlotte</td>\n",
              "    </tr>\n",
              "    <tr>\n",
              "      <th>6</th>\n",
              "      <td>130</td>\n",
              "      <td>alanis morissette</td>\n",
              "      <td>the smashing pumpkins</td>\n",
              "      <td>pearl jam</td>\n",
              "      <td>nickelback</td>\n",
              "      <td>norah jones</td>\n",
              "    </tr>\n",
              "    <tr>\n",
              "      <th>7</th>\n",
              "      <td>141</td>\n",
              "      <td>machine head</td>\n",
              "      <td>sonic syndicate</td>\n",
              "      <td>caliban</td>\n",
              "      <td>hatebreed</td>\n",
              "      <td>killswitch engage</td>\n",
              "    </tr>\n",
              "    <tr>\n",
              "      <th>8</th>\n",
              "      <td>144</td>\n",
              "      <td>editors</td>\n",
              "      <td>nada surf</td>\n",
              "      <td>the strokes</td>\n",
              "      <td>death cab for cutie</td>\n",
              "      <td>the decemberists</td>\n",
              "    </tr>\n",
              "    <tr>\n",
              "      <th>9</th>\n",
              "      <td>150</td>\n",
              "      <td>placebo</td>\n",
              "      <td>the subways</td>\n",
              "      <td>eric clapton</td>\n",
              "      <td>the streets</td>\n",
              "      <td>bob dylan</td>\n",
              "    </tr>\n",
              "  </tbody>\n",
              "</table>\n",
              "</div>\n",
              "      <button class=\"colab-df-convert\" onclick=\"convertToInteractive('df-08d6cdc7-6d47-4e43-ad18-98e94cf2b854')\"\n",
              "              title=\"Convert this dataframe to an interactive table.\"\n",
              "              style=\"display:none;\">\n",
              "        \n",
              "  <svg xmlns=\"http://www.w3.org/2000/svg\" height=\"24px\"viewBox=\"0 0 24 24\"\n",
              "       width=\"24px\">\n",
              "    <path d=\"M0 0h24v24H0V0z\" fill=\"none\"/>\n",
              "    <path d=\"M18.56 5.44l.94 2.06.94-2.06 2.06-.94-2.06-.94-.94-2.06-.94 2.06-2.06.94zm-11 1L8.5 8.5l.94-2.06 2.06-.94-2.06-.94L8.5 2.5l-.94 2.06-2.06.94zm10 10l.94 2.06.94-2.06 2.06-.94-2.06-.94-.94-2.06-.94 2.06-2.06.94z\"/><path d=\"M17.41 7.96l-1.37-1.37c-.4-.4-.92-.59-1.43-.59-.52 0-1.04.2-1.43.59L10.3 9.45l-7.72 7.72c-.78.78-.78 2.05 0 2.83L4 21.41c.39.39.9.59 1.41.59.51 0 1.02-.2 1.41-.59l7.78-7.78 2.81-2.81c.8-.78.8-2.07 0-2.86zM5.41 20L4 18.59l7.72-7.72 1.47 1.35L5.41 20z\"/>\n",
              "  </svg>\n",
              "      </button>\n",
              "      \n",
              "  <style>\n",
              "    .colab-df-container {\n",
              "      display:flex;\n",
              "      flex-wrap:wrap;\n",
              "      gap: 12px;\n",
              "    }\n",
              "\n",
              "    .colab-df-convert {\n",
              "      background-color: #E8F0FE;\n",
              "      border: none;\n",
              "      border-radius: 50%;\n",
              "      cursor: pointer;\n",
              "      display: none;\n",
              "      fill: #1967D2;\n",
              "      height: 32px;\n",
              "      padding: 0 0 0 0;\n",
              "      width: 32px;\n",
              "    }\n",
              "\n",
              "    .colab-df-convert:hover {\n",
              "      background-color: #E2EBFA;\n",
              "      box-shadow: 0px 1px 2px rgba(60, 64, 67, 0.3), 0px 1px 3px 1px rgba(60, 64, 67, 0.15);\n",
              "      fill: #174EA6;\n",
              "    }\n",
              "\n",
              "    [theme=dark] .colab-df-convert {\n",
              "      background-color: #3B4455;\n",
              "      fill: #D2E3FC;\n",
              "    }\n",
              "\n",
              "    [theme=dark] .colab-df-convert:hover {\n",
              "      background-color: #434B5C;\n",
              "      box-shadow: 0px 1px 3px 1px rgba(0, 0, 0, 0.15);\n",
              "      filter: drop-shadow(0px 1px 2px rgba(0, 0, 0, 0.3));\n",
              "      fill: #FFFFFF;\n",
              "    }\n",
              "  </style>\n",
              "\n",
              "      <script>\n",
              "        const buttonEl =\n",
              "          document.querySelector('#df-08d6cdc7-6d47-4e43-ad18-98e94cf2b854 button.colab-df-convert');\n",
              "        buttonEl.style.display =\n",
              "          google.colab.kernel.accessAllowed ? 'block' : 'none';\n",
              "\n",
              "        async function convertToInteractive(key) {\n",
              "          const element = document.querySelector('#df-08d6cdc7-6d47-4e43-ad18-98e94cf2b854');\n",
              "          const dataTable =\n",
              "            await google.colab.kernel.invokeFunction('convertToInteractive',\n",
              "                                                     [key], {});\n",
              "          if (!dataTable) return;\n",
              "\n",
              "          const docLinkHtml = 'Like what you see? Visit the ' +\n",
              "            '<a target=\"_blank\" href=https://colab.research.google.com/notebooks/data_table.ipynb>data table notebook</a>'\n",
              "            + ' to learn more about interactive tables.';\n",
              "          element.innerHTML = '';\n",
              "          dataTable['output_type'] = 'display_data';\n",
              "          await google.colab.output.renderOutput(dataTable, element);\n",
              "          const docLink = document.createElement('div');\n",
              "          docLink.innerHTML = docLinkHtml;\n",
              "          element.appendChild(docLink);\n",
              "        }\n",
              "      </script>\n",
              "    </div>\n",
              "  </div>\n",
              "  "
            ]
          },
          "metadata": {},
          "execution_count": 35
        }
      ],
      "source": [
        "data_recommend.iloc[:10,:6]"
      ]
    }
  ],
  "metadata": {
    "colab": {
      "collapsed_sections": [],
      "name": "KPTNcook.ipynb",
      "provenance": [],
      "authorship_tag": "ABX9TyMVoy5M2088fFbcmINn6V05",
      "include_colab_link": true
    },
    "kernelspec": {
      "display_name": "Python 3",
      "name": "python3"
    },
    "language_info": {
      "name": "python"
    }
  },
  "nbformat": 4,
  "nbformat_minor": 0
}